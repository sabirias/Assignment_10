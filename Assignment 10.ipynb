{
 "cells": [
  {
   "cell_type": "markdown",
   "id": "4c194db1-3fd7-457f-8e1a-a1a3352bb540",
   "metadata": {},
   "source": [
    "Q1. Create a vehicle class with an init method having instance variables as name_of_vehicle, max_speed \n",
    "    and average_of_vehicle. "
   ]
  },
  {
   "cell_type": "code",
   "execution_count": 20,
   "id": "5242dbb4-b231-49b7-bc58-c32a6c3faa98",
   "metadata": {},
   "outputs": [
    {
     "name": "stdout",
     "output_type": "stream",
     "text": [
      "Toyota Corolla: Max Speed - 200 km/h, Average Speed - 30 km/h\n"
     ]
    }
   ],
   "source": [
    "class Vehicle:\n",
    "    def __init__(self, name_of_vehicle, max_speed, average_of_vehicle):\n",
    "        self.name_of_vehicle = name_of_vehicle\n",
    "        self.max_speed = max_speed\n",
    "        self.average_of_vehicle = average_of_vehicle\n",
    "\n",
    "# Example of using the Vehicle class\n",
    "car = Vehicle(\"Toyota Corolla\", 200, 30)\n",
    "\n",
    "# Accessing instance variables\n",
    "print(f\"{car.name_of_vehicle}: Max Speed - {car.max_speed} km/h, Average Speed - {car.average_of_vehicle} km/h\")"
   ]
  },
  {
   "cell_type": "markdown",
   "id": "98e5cfbc-98cf-4b17-86e1-2a957d6907c8",
   "metadata": {},
   "source": [
    "Q2. Create a child class car from the vehicle class created in Que 1, which will inherit the vehicle class. \n",
    "    Create a method named seating_capacity which takes capacity as an argument and returns the name of \n",
    "    the vehicle and its seating capacity."
   ]
  },
  {
   "cell_type": "code",
   "execution_count": 26,
   "id": "0255e58d-b748-4c66-b248-dee5accd07ea",
   "metadata": {},
   "outputs": [
    {
     "name": "stdout",
     "output_type": "stream",
     "text": [
      "Toyota Corolla: Max Speed - 180 km/h, Average Speed - 25 km/h, Seating Capacity - 5\n"
     ]
    }
   ],
   "source": [
    "class Vehicle:\n",
    "    def __init__(self, name_of_vehicle, max_speed, average_of_vehicle):\n",
    "        self.name_of_vehicle = name_of_vehicle\n",
    "        self.max_speed = max_speed\n",
    "        self.average_of_vehicle = average_of_vehicle\n",
    "\n",
    "class Car(Vehicle):\n",
    "    def seating_capacity(self, capacity):\n",
    "        return capacity\n",
    "\n",
    "# Example of using the Car class\n",
    "car = Car(\"Toyota Corolla\", 180, 25)\n",
    "\n",
    "# Accessing inherited instance variables\n",
    "print(f\"{car.name_of_vehicle}: Max Speed - {car.max_speed} km/h, Average Speed - {car.average_of_vehicle} km/h, Seating Capacity - {car.seating_capacity(5)}\")\n",
    "\n",
    "# # Using the new method\n",
    "# capacity_message = car_instance.seating_capacity(5)\n",
    "# print(capacity_message)\n"
   ]
  },
  {
   "cell_type": "markdown",
   "id": "7cabe21e-95b8-404f-8c8e-5b3489ea9366",
   "metadata": {},
   "source": [
    "Q3. What is multiple inheritance? Write a python code to demonstrate multiple inheritance.\n",
    "\n",
    "ANS:- Multiple Inheritance in Python refers to the capability of a class to inherit properties and methods\n",
    "      from more than one parent class. In other words, a class can be derived from more than one base classes, \n",
    "      and it inherits attributes and behaviors from all of them."
   ]
  },
  {
   "cell_type": "code",
   "execution_count": 30,
   "id": "60629b27-476e-4521-95f7-f7c5f995cc23",
   "metadata": {},
   "outputs": [
    {
     "name": "stdout",
     "output_type": "stream",
     "text": [
      "Animal Speaks.\n",
      "Bird can fly.\n",
      "Parrot sings.\n"
     ]
    }
   ],
   "source": [
    "class Animal:\n",
    "    def speak(self):\n",
    "        return \"Animal Speaks.\"\n",
    "\n",
    "class Bird:\n",
    "    def fly(self):\n",
    "        return \"Bird can fly.\"\n",
    "\n",
    "class Parrot(Animal, Bird):\n",
    "    def sing(self):\n",
    "        return \"Parrot sings.\"\n",
    "\n",
    "Animal_obj = Parrot()\n",
    "\n",
    "print(Animal_obj.speak())\n",
    "print(Animal_obj.fly())\n",
    "print(Animal_obj.sing())\n",
    "    "
   ]
  },
  {
   "cell_type": "markdown",
   "id": "9353a943-e7b8-42e6-8d1e-b26665fa74f3",
   "metadata": {},
   "source": [
    "Q4. What are getter and setter in python? Create a class and create a getter and a setter \n",
    "    method in this class.\n",
    "\n",
    "ANS:- In Python, getters and setters are methods used to access and modify the attributes of a class,\n",
    "      respectively. They provide a way to encapsulate the internal implementation details of a class and \n",
    "      control access to its attributes. Getter methods are used to retrieve the values of private attributes,\n",
    "      and setter methods are used to modify the values of those attributes."
   ]
  },
  {
   "cell_type": "code",
   "execution_count": 41,
   "id": "34983d73-4214-4839-85ab-7e236341ac55",
   "metadata": {},
   "outputs": [
    {
     "name": "stdout",
     "output_type": "stream",
     "text": [
      "Old Name:  Mohammed\n",
      "Updated Name:  Sabir\n"
     ]
    }
   ],
   "source": [
    "class person:\n",
    "    def __init__(self, name):\n",
    "        self._name = name   #using single underscore to indicate a protected attribute\n",
    "\n",
    "    #getter mehod for the name attribute\n",
    "    def get_name(self):\n",
    "        return self._name\n",
    "\n",
    "    #setter method for name attribute \n",
    "    def set_name(self, name):\n",
    "        self._name = name\n",
    "\n",
    "#creaating an instance of the person class\n",
    "person_obj = person(\"Mohammed\")\n",
    "\n",
    "#using getter method to access the attribute value\n",
    "print(\"Old Name: \", person_obj.get_name())\n",
    "\n",
    "#using setter method to modify the attribute value\n",
    "person_obj.set_name(\"Sabir\")\n",
    "\n",
    "#uaing getter method to access the attribute value\n",
    "print(\"Updated Name: \", person_obj.get_name())"
   ]
  },
  {
   "cell_type": "markdown",
   "id": "6834b25f-0bb4-41af-9be5-169ae0899323",
   "metadata": {},
   "source": [
    "Q5. What is method overriding in python? Write a python code to demonstrate method overriding.\n",
    "\n",
    "ANS:- Method overriding in Python occurs when a subclass provides a specific implementation for\n",
    "      a method that is already defined in its superclass. This allows the subclass to customize \n",
    "      or extend the behavior of the inherited method."
   ]
  },
  {
   "cell_type": "code",
   "execution_count": 42,
   "id": "8d2ce319-7ea8-4413-9526-4e35ceacd39a",
   "metadata": {},
   "outputs": [
    {
     "name": "stdout",
     "output_type": "stream",
     "text": [
      "Area of the rectangle: 40\n",
      "Area of the circle: 50.24\n"
     ]
    }
   ],
   "source": [
    "# Define a base class 'Shape' with a method 'area'.\n",
    "class Shape:\n",
    "    def area(self):\n",
    "        return \"Calculate area in the base class.\"\n",
    "\n",
    "# Define a derived class 'Rectangle' that inherits from 'Shape'.\n",
    "# Override the 'area' method to provide a specific implementation for rectangles.\n",
    "class Rectangle(Shape):\n",
    "    def __init__(self, length, width):\n",
    "        self.length = length\n",
    "        self.width = width\n",
    "\n",
    "    # Override the 'area' method to calculate the area of a rectangle.\n",
    "    def area(self):\n",
    "        return f\"Area of the rectangle: {self.length * self.width}\"\n",
    "\n",
    "# Define another derived class 'Circle' that inherits from 'Shape'.\n",
    "# Override the 'area' method to provide a specific implementation for circles.\n",
    "class Circle(Shape):\n",
    "    def __init__(self, radius):\n",
    "        self.radius = radius\n",
    "\n",
    "    # Override the 'area' method to calculate the area of a circle.\n",
    "    def area(self):\n",
    "        return f\"Area of the circle: {3.14 * self.radius * self.radius}\"\n",
    "\n",
    "# Create instances of 'Rectangle' and 'Circle' classes.\n",
    "rectangle_obj = Rectangle(5, 8)\n",
    "circle_obj = Circle(4)\n",
    "\n",
    "# Call the 'area' method on both objects, demonstrating method overriding.\n",
    "print(rectangle_obj.area())  # Output: Area of the rectangle: 40\n",
    "print(circle_obj.area())     # Output: Area of the circle: 50.24"
   ]
  },
  {
   "cell_type": "code",
   "execution_count": null,
   "id": "c5f487b4-49f4-435e-bd28-d9c84c71ccb6",
   "metadata": {},
   "outputs": [],
   "source": []
  }
 ],
 "metadata": {
  "kernelspec": {
   "display_name": "Python 3 (ipykernel)",
   "language": "python",
   "name": "python3"
  },
  "language_info": {
   "codemirror_mode": {
    "name": "ipython",
    "version": 3
   },
   "file_extension": ".py",
   "mimetype": "text/x-python",
   "name": "python",
   "nbconvert_exporter": "python",
   "pygments_lexer": "ipython3",
   "version": "3.12.0"
  }
 },
 "nbformat": 4,
 "nbformat_minor": 5
}
